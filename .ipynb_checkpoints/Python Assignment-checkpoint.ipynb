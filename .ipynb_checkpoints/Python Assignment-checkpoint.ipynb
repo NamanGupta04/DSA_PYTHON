{
 "cells": [
  {
   "cell_type": "code",
   "execution_count": 1,
   "id": "3089975b",
   "metadata": {},
   "outputs": [],
   "source": [
    "class ExpenseTracker:\n",
    "    #class attribute\n",
    "    expense_version_tracker=0.1\n",
    "    def __init__(self,track_category,original_balance,budget):\n",
    "        #instance/object Attributes\n",
    "        #public attribute\n",
    "        self.tracking_category=track_category\n",
    "        #private attribute\n",
    "        self.__original_balance=original_balance\n",
    "        self.__tracker_budget=budget\n",
    "        #instance method\n",
    "    def __get_original_balance(self):\n",
    "        return self.__original_balance\n",
    "    def check_balance(self,limit=1000):\n",
    "        if self.tracker_budget>=limit:\n",
    "            return True\n",
    "        else:\n",
    "            return \"Your opening balance is less than limit\"\n",
    "    @staticmethod\n",
    "    def convert_amount(amount):\n",
    "            return float(amount)\n",
    "    @classmethod\n",
    "    def get_attributes_fromstring(cls,diary_entry:str):\n",
    "        tracking_category,opening_balance,tracker_budget=diary_entry.split(\" \")\n",
    "        return ExpenseTracker(tracking_category.capitalize(),\n",
    "                             cls.convert_amount(opening_balance),\n",
    "                             cls.convert_amount(tracker_budget))"
   ]
  },
  {
   "cell_type": "code",
   "execution_count": 2,
   "id": "99e15617",
   "metadata": {},
   "outputs": [
    {
     "data": {
      "text/plain": [
       "'home'"
      ]
     },
     "execution_count": 2,
     "metadata": {},
     "output_type": "execute_result"
    }
   ],
   "source": [
    "home=ExpenseTracker(\"home\",0,100)\n",
    "home.tracking_category"
   ]
  },
  {
   "cell_type": "code",
   "execution_count": 3,
   "id": "5ee9bf1d",
   "metadata": {},
   "outputs": [
    {
     "data": {
      "text/plain": [
       "0"
      ]
     },
     "execution_count": 3,
     "metadata": {},
     "output_type": "execute_result"
    }
   ],
   "source": [
    "home._ExpenseTracker__original_balance"
   ]
  },
  {
   "cell_type": "code",
   "execution_count": 4,
   "id": "a94a6f2f",
   "metadata": {},
   "outputs": [
    {
     "data": {
      "text/plain": [
       "100"
      ]
     },
     "execution_count": 4,
     "metadata": {},
     "output_type": "execute_result"
    }
   ],
   "source": [
    "home._ExpenseTracker__tracker_budget"
   ]
  },
  {
   "cell_type": "code",
   "execution_count": 5,
   "id": "05fb9b20",
   "metadata": {},
   "outputs": [
    {
     "data": {
      "text/plain": [
       "0"
      ]
     },
     "execution_count": 5,
     "metadata": {},
     "output_type": "execute_result"
    }
   ],
   "source": [
    "home._ExpenseTracker__get_original_balance()"
   ]
  },
  {
   "cell_type": "code",
   "execution_count": 6,
   "id": "1fddd6a9",
   "metadata": {},
   "outputs": [],
   "source": [
    "office = ExpenseTracker(\"Office\",20000,10000)"
   ]
  },
  {
   "cell_type": "code",
   "execution_count": 7,
   "id": "361c40d3",
   "metadata": {},
   "outputs": [
    {
     "data": {
      "text/plain": [
       "'Office'"
      ]
     },
     "execution_count": 7,
     "metadata": {},
     "output_type": "execute_result"
    }
   ],
   "source": [
    "office.tracking_category"
   ]
  },
  {
   "cell_type": "code",
   "execution_count": 8,
   "id": "a8812c3e",
   "metadata": {},
   "outputs": [
    {
     "data": {
      "text/plain": [
       "20000"
      ]
     },
     "execution_count": 8,
     "metadata": {},
     "output_type": "execute_result"
    }
   ],
   "source": [
    "office._ExpenseTracker__original_balance"
   ]
  },
  {
   "cell_type": "code",
   "execution_count": 9,
   "id": "2d43045f",
   "metadata": {},
   "outputs": [
    {
     "data": {
      "text/plain": [
       "10000"
      ]
     },
     "execution_count": 9,
     "metadata": {},
     "output_type": "execute_result"
    }
   ],
   "source": [
    "office._ExpenseTracker__tracker_budget"
   ]
  },
  {
   "cell_type": "code",
   "execution_count": 11,
   "id": "f7b69778",
   "metadata": {},
   "outputs": [
    {
     "data": {
      "text/plain": [
       "20000"
      ]
     },
     "execution_count": 11,
     "metadata": {},
     "output_type": "execute_result"
    }
   ],
   "source": [
    "office._ExpenseTracker__get_original_balance()"
   ]
  },
  {
   "cell_type": "code",
   "execution_count": 12,
   "id": "51a1ed00",
   "metadata": {},
   "outputs": [
    {
     "data": {
      "text/plain": [
       "20000.0"
      ]
     },
     "execution_count": 12,
     "metadata": {},
     "output_type": "execute_result"
    }
   ],
   "source": [
    "office.convert_amount(20000)"
   ]
  },
  {
   "cell_type": "code",
   "execution_count": 14,
   "id": "f4d878ad",
   "metadata": {},
   "outputs": [
    {
     "data": {
      "text/plain": [
       "<__main__.ExpenseTracker at 0x225db701c40>"
      ]
     },
     "execution_count": 14,
     "metadata": {},
     "output_type": "execute_result"
    }
   ],
   "source": [
    "office.get_attributes_fromstring(\"Office 20000 10000\")"
   ]
  },
  {
   "cell_type": "code",
   "execution_count": null,
   "id": "9607a69e",
   "metadata": {},
   "outputs": [],
   "source": []
  },
  {
   "cell_type": "code",
   "execution_count": null,
   "id": "cd5946ac",
   "metadata": {},
   "outputs": [],
   "source": []
  }
 ],
 "metadata": {
  "kernelspec": {
   "display_name": "Python 3 (ipykernel)",
   "language": "python",
   "name": "python3"
  },
  "language_info": {
   "codemirror_mode": {
    "name": "ipython",
    "version": 3
   },
   "file_extension": ".py",
   "mimetype": "text/x-python",
   "name": "python",
   "nbconvert_exporter": "python",
   "pygments_lexer": "ipython3",
   "version": "3.9.13"
  }
 },
 "nbformat": 4,
 "nbformat_minor": 5
}
