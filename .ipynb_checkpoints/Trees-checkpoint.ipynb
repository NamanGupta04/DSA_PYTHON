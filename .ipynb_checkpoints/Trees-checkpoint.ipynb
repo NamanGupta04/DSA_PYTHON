{
 "cells": [
  {
   "cell_type": "code",
   "execution_count": 11,
   "id": "4e153e95-70e9-403a-93bb-216c3c286b5f",
   "metadata": {},
   "outputs": [
    {
     "name": "stdout",
     "output_type": "stream",
     "text": [
      "InOrder Traversal: \n",
      "4 2 5 1 3 "
     ]
    },
    {
     "data": {
      "text/plain": [
       "(None, None)"
      ]
     },
     "execution_count": 11,
     "metadata": {},
     "output_type": "execute_result"
    }
   ],
   "source": [
    "class Node:\n",
    "    def __init__(self, key):\n",
    "    \tself.left = None\n",
    "    \tself.right = None\n",
    "    \tself.val = key\n",
    "\n",
    "# A function to do inorder tree traversal\n",
    "def printInorder(root):\n",
    "\tif root != None:\n",
    "\t\tprintInorder(root.left)\n",
    "\t\tprint(root.val, end = \" \"),\n",
    "\t\tprintInorder(root.right)\n",
    "        \n",
    "# A function to do inorder tree traversal\n",
    "def printPreorder(root):\n",
    "    if root != None:\n",
    "        print(root.val , end = \" \"),\n",
    "        printPreorder(root.left)\n",
    "        printPreorder(root.right)\n",
    "        \n",
    "# A function to do inorder tree traversal\n",
    "def printPostorder(root):\n",
    "    if root != None:\n",
    "        printPostorder(root.left)\n",
    "        printPostorder(root.right)\n",
    "        print(root.val, end = \" \")\n",
    "\n",
    "\n",
    "\n",
    "\n",
    "if __name__ == \"__main__\":\n",
    "    root = Node(1)\n",
    "    root.left = Node(2)\n",
    "    root.right = Node(3)\n",
    "    root.left.left = Node(4)\n",
    "    root.left.right = Node(5)\n",
    "\n",
    "    root1 = Node(10)\n",
    "    root1.left = Node(20)\n",
    "    root1.left.left = Node(30)\n",
    "\n",
    "print(\"InOrder Traversal: \"),printInorder(root)"
   ]
  },
  {
   "cell_type": "code",
   "execution_count": 2,
   "id": "8e9e24e3-39d9-442f-a295-8a91e7dca8a0",
   "metadata": {},
   "outputs": [
    {
     "name": "stdout",
     "output_type": "stream",
     "text": [
      "PreOrder Traversal: \n",
      "1 2 4 5 3 "
     ]
    },
    {
     "data": {
      "text/plain": [
       "(None, None)"
      ]
     },
     "execution_count": 2,
     "metadata": {},
     "output_type": "execute_result"
    }
   ],
   "source": [
    "print(\"PreOrder Traversal: \"),printPreorder(root)"
   ]
  },
  {
   "cell_type": "code",
   "execution_count": 3,
   "id": "7b331190-86c0-4838-95c3-f175eb874131",
   "metadata": {},
   "outputs": [
    {
     "name": "stdout",
     "output_type": "stream",
     "text": [
      "PostOrder Traversal: \n",
      "4 5 2 3 1 "
     ]
    },
    {
     "data": {
      "text/plain": [
       "(None, None)"
      ]
     },
     "execution_count": 3,
     "metadata": {},
     "output_type": "execute_result"
    }
   ],
   "source": [
    "print(\"PostOrder Traversal: \"),printPostorder(root)"
   ]
  },
  {
   "cell_type": "code",
   "execution_count": 4,
   "id": "df2c6a36-4d51-4377-9631-6a419d163678",
   "metadata": {},
   "outputs": [
    {
     "name": "stdout",
     "output_type": "stream",
     "text": [
      "height of the given tree:  3\n"
     ]
    }
   ],
   "source": [
    "def height(root):\n",
    "    if root == None:\n",
    "        return 0\n",
    "    else:\n",
    "        lh = height(root.left)\n",
    "        rh = height(root.right)\n",
    "        return max(lh,rh)+1\n",
    "print(\"height of the given tree: \",height(root))"
   ]
  },
  {
   "cell_type": "code",
   "execution_count": 5,
   "id": "9699d8e1-a745-43a8-a6ce-562b14313ea2",
   "metadata": {},
   "outputs": [
    {
     "name": "stdout",
     "output_type": "stream",
     "text": [
      "Printing  0  distance nodes of the given tree\n",
      "1 \n",
      "Printing  1  distance nodes of the given tree\n",
      "2 3 \n",
      "Printing  2  distance nodes of the given tree\n",
      "4 5 "
     ]
    },
    {
     "data": {
      "text/plain": [
       "(None, None)"
      ]
     },
     "execution_count": 5,
     "metadata": {},
     "output_type": "execute_result"
    }
   ],
   "source": [
    "def printKDistanceNode(root,k):\n",
    "    if root == None:\n",
    "        return\n",
    "    if k == 0:\n",
    "        print(root.val,end = \" \")\n",
    "    else:\n",
    "        printKDistanceNode(root.left,k-1)\n",
    "        printKDistanceNode(root.right,k-1)\n",
    "k = 0\n",
    "print(\"Printing \",k,\" distance nodes of the given tree\"),printKDistanceNode(root,k)\n",
    "print()\n",
    "k = 1\n",
    "print(\"Printing \",k,\" distance nodes of the given tree\"),printKDistanceNode(root,k)\n",
    "print()\n",
    "k = 2\n",
    "print(\"Printing \",k,\" distance nodes of the given tree\"),printKDistanceNode(root,k)"
   ]
  },
  {
   "cell_type": "code",
   "execution_count": 6,
   "id": "167dacbb-93e7-4868-8a7d-e83aa3df81ca",
   "metadata": {},
   "outputs": [
    {
     "name": "stdout",
     "output_type": "stream",
     "text": [
      "1 2 3 4 5 "
     ]
    }
   ],
   "source": [
    "def levelOrderTraversal(root):\n",
    "    h = height(root)\n",
    "    for i in range(h):\n",
    "        printKDistanceNode(root,i)\n",
    "\n",
    "levelOrderTraversal(root)"
   ]
  },
  {
   "cell_type": "code",
   "execution_count": 7,
   "id": "8a197e83-ac47-47fe-9a69-d3a8f26be754",
   "metadata": {},
   "outputs": [
    {
     "name": "stdout",
     "output_type": "stream",
     "text": [
      "1 2 3 4 5 "
     ]
    }
   ],
   "source": [
    "from collections import deque\n",
    "def levelOrderTraversal(root):\n",
    "    if root is None:\n",
    "        return\n",
    "    q = deque()\n",
    "    q.append(root)\n",
    "    while len(q)>0:\n",
    "        node = q.popleft()\n",
    "        print(node.val,end=\" \")\n",
    "        if node.left is not None:\n",
    "            q.append(node.left)\n",
    "        if node.right is not None:\n",
    "            q.append(node.right)\n",
    "\n",
    "levelOrderTraversal(root)\n",
    "    "
   ]
  },
  {
   "cell_type": "code",
   "execution_count": 8,
   "id": "761ee47f-0298-4004-9ac6-abde778de1e5",
   "metadata": {},
   "outputs": [
    {
     "name": "stdout",
     "output_type": "stream",
     "text": [
      "Size of the given Binary Tree:  5\n",
      "Maximum Element in the given Tree:  5\n"
     ]
    }
   ],
   "source": [
    "import math\n",
    "\n",
    "def size(root):\n",
    "    if root == None:\n",
    "        return 0\n",
    "    else:\n",
    "        ls = size(root.left)\n",
    "        rs = size(root.right)\n",
    "        return ls + rs + 1\n",
    "\n",
    "def getMax(root):\n",
    "    if root is None:\n",
    "        return -math.inf\n",
    "    else:\n",
    "        lm = getMax(root.left)\n",
    "        rm = getMax(root.right)\n",
    "        return max(root.val,lm,rm)\n",
    "\n",
    "print(\"Size of the given Binary Tree: \", size(root))\n",
    "print(\"Maximum Element in the given Tree: \", getMax(root))"
   ]
  },
  {
   "cell_type": "code",
   "execution_count": 20,
   "id": "f50cc297-4021-48fe-84dd-3ab7320186be",
   "metadata": {},
   "outputs": [],
   "source": [
    "def isBalanced(self, root):\n",
    "    if root is None:\n",
    "        return True\n",
    "            \n",
    "    lh = self.height(root.left)\n",
    "    rh = self.height(root.right)\n",
    "\n",
    "    if (abs(lh - rh) <= 1) and self.isBalanced(root.left) and self.isBalanced(root.right):\n",
    "        return True\n",
    "    return False\n",
    "                "
   ]
  },
  {
   "cell_type": "code",
   "execution_count": 23,
   "id": "7a70fe25-90dd-4dfe-954f-de7fdf1e2867",
   "metadata": {},
   "outputs": [
    {
     "ename": "AttributeError",
     "evalue": "'Node' object has no attribute 'data'",
     "output_type": "error",
     "traceback": [
      "\u001b[1;31m---------------------------------------------------------------------------\u001b[0m",
      "\u001b[1;31mAttributeError\u001b[0m                            Traceback (most recent call last)",
      "Cell \u001b[1;32mIn[23], line 27\u001b[0m\n\u001b[0;32m     25\u001b[0m                 \u001b[38;5;28;01melse\u001b[39;00m:\n\u001b[0;32m     26\u001b[0m                     \u001b[38;5;28;01mreturn\u001b[39;00m \u001b[38;5;241m0\u001b[39m\n\u001b[1;32m---> 27\u001b[0m \u001b[38;5;28mprint\u001b[39m(isSumProperty(root))\n",
      "Cell \u001b[1;32mIn[23], line 6\u001b[0m, in \u001b[0;36misSumProperty\u001b[1;34m(root)\u001b[0m\n\u001b[0;32m      4\u001b[0m \u001b[38;5;28;01melse\u001b[39;00m:\n\u001b[0;32m      5\u001b[0m     \u001b[38;5;28;01mif\u001b[39;00m root\u001b[38;5;241m.\u001b[39mleft \u001b[38;5;129;01mand\u001b[39;00m root\u001b[38;5;241m.\u001b[39mright:\n\u001b[1;32m----> 6\u001b[0m         \u001b[38;5;28;01mif\u001b[39;00m (root\u001b[38;5;241m.\u001b[39mdata\u001b[38;5;241m==\u001b[39mroot\u001b[38;5;241m.\u001b[39mleft\u001b[38;5;241m.\u001b[39mdata\u001b[38;5;241m+\u001b[39mroot\u001b[38;5;241m.\u001b[39mright\u001b[38;5;241m.\u001b[39mdata \u001b[38;5;129;01mand\u001b[39;00m \u001b[38;5;28mself\u001b[39m\u001b[38;5;241m.\u001b[39misSumProperty(root\u001b[38;5;241m.\u001b[39mleft)\n\u001b[0;32m      7\u001b[0m         \u001b[38;5;129;01mand\u001b[39;00m \u001b[38;5;28mself\u001b[39m\u001b[38;5;241m.\u001b[39misSumProperty(root\u001b[38;5;241m.\u001b[39mright)):\n\u001b[0;32m      8\u001b[0m             \u001b[38;5;28;01mreturn\u001b[39;00m \u001b[38;5;241m1\u001b[39m\n\u001b[0;32m      9\u001b[0m         \u001b[38;5;28;01melse\u001b[39;00m:\n",
      "\u001b[1;31mAttributeError\u001b[0m: 'Node' object has no attribute 'data'"
     ]
    }
   ],
   "source": [
    "def isSumProperty(root):\n",
    "    if root is None:\n",
    "        return 1\n",
    "    else:\n",
    "        if root.left and root.right:\n",
    "            if (root.data==root.left.data+root.right.data and self.isSumProperty(root.left)\n",
    "            and self.isSumProperty(root.right)):\n",
    "                return 1\n",
    "            else:\n",
    "                return 0\n",
    "        else:\n",
    "            if not root.left and root.right:\n",
    "                if root.data==root.right.data +0 and self.isSumProperty(root.right):\n",
    "                    return 1\n",
    "                else:\n",
    "                    return 0\n",
    "            elif not root.right and root.left:\n",
    "                if root.data==root.left.data +0 and self.isSumProperty(root.left):\n",
    "                    return 1\n",
    "                else:\n",
    "                    return 0\n",
    "            else:\n",
    "                if self.isSumProperty(root.right) and self.isSumProperty(root.left):\n",
    "                    return 1\n",
    "                else:\n",
    "                    return 0\n",
    "print(isSumProperty(root))"
   ]
  },
  {
   "cell_type": "code",
   "execution_count": null,
   "id": "c62e1bfc-5abf-4e42-9b50-5f435ab3e50e",
   "metadata": {},
   "outputs": [],
   "source": []
  }
 ],
 "metadata": {
  "kernelspec": {
   "display_name": "Python 3 (ipykernel)",
   "language": "python",
   "name": "python3"
  },
  "language_info": {
   "codemirror_mode": {
    "name": "ipython",
    "version": 3
   },
   "file_extension": ".py",
   "mimetype": "text/x-python",
   "name": "python",
   "nbconvert_exporter": "python",
   "pygments_lexer": "ipython3",
   "version": "3.11.7"
  }
 },
 "nbformat": 4,
 "nbformat_minor": 5
}
