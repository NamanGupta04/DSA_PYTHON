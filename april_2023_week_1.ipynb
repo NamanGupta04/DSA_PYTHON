{
 "cells": [
  {
   "cell_type": "markdown",
   "id": "aac94f28",
   "metadata": {},
   "source": [
    "## April Week-1 "
   ]
  },
  {
   "cell_type": "markdown",
   "id": "1f1af32c",
   "metadata": {},
   "source": [
    "#### Q1. Check whether a string is Palindrome or not ?"
   ]
  },
  {
   "cell_type": "code",
   "execution_count": 1,
   "id": "03af9ceb",
   "metadata": {},
   "outputs": [
    {
     "name": "stdout",
     "output_type": "stream",
     "text": [
      "String is not Palindrome\n",
      "String is Palindrome\n"
     ]
    },
    {
     "data": {
      "text/plain": [
       "True"
      ]
     },
     "execution_count": 1,
     "metadata": {},
     "output_type": "execute_result"
    }
   ],
   "source": [
    "def isPalindrome(s):\n",
    "    if s[::]==s[::-1]:\n",
    "        print(\"String is Palindrome\")\n",
    "    else:\n",
    "        print(\"String is not Palindrome\")\n",
    "isPalindrome(\"Naman\")\n",
    "isPalindrome(\"naman\")\n",
    "\n",
    "def isPalindromeLoop(str):\n",
    "    n=len(str)\n",
    "    count=0\n",
    "    for i in range(n//2):\n",
    "        if str[i] == str[n-1-i]:\n",
    "            count+=1\n",
    "            \n",
    "    if count== n//2:\n",
    "        return True\n",
    "    \n",
    "    return False\n",
    "\n",
    "isPalindromeLoop(\"racecar\")\n",
    "\n",
    "## Time Complexity -->  O(n)\n",
    "## Space Complexity --> O(n)"
   ]
  },
  {
   "cell_type": "markdown",
   "id": "e3bb4fbe",
   "metadata": {},
   "source": [
    "#### Q2 Pattern Problem 1"
   ]
  },
  {
   "cell_type": "code",
   "execution_count": 2,
   "id": "aa187216",
   "metadata": {},
   "outputs": [
    {
     "name": "stdout",
     "output_type": "stream",
     "text": [
      "*\n",
      "**\n",
      "***\n",
      "****\n",
      "*****\n"
     ]
    }
   ],
   "source": [
    "def Pattern(n):\n",
    "    i=0\n",
    "    while i<=n:\n",
    "        j=0\n",
    "        while j<=i:\n",
    "            print(\"*\",end=\"\")\n",
    "            j=j+1\n",
    "        print()\n",
    "        i+=1\n",
    "Pattern(4)"
   ]
  },
  {
   "cell_type": "markdown",
   "id": "fc677b63",
   "metadata": {},
   "source": [
    "## Linked List"
   ]
  },
  {
   "cell_type": "code",
   "execution_count": 3,
   "id": "caa42f6d",
   "metadata": {},
   "outputs": [
    {
     "name": "stdout",
     "output_type": "stream",
     "text": [
      "13\n",
      "15\n",
      "15\n",
      "<__main__.Node object at 0x0000026386C11C10>\n",
      "<__main__.Node object at 0x0000026386C11BB0>\n",
      "<__main__.Node object at 0x0000026386C11BB0>\n"
     ]
    }
   ],
   "source": [
    "class Node:\n",
    "    def __init__(self,data):\n",
    "        self.data=data\n",
    "        self.next=None\n",
    "a=Node(13)\n",
    "b=Node(15)\n",
    "a.next=b\n",
    "print(a.data)\n",
    "print(b.data)\n",
    "print(a.next.data)\n",
    "print(a)\n",
    "print(a.next)\n",
    "print(b)\n",
    "#print(b.next.data)"
   ]
  },
  {
   "cell_type": "code",
   "execution_count": 4,
   "id": "111edaf7",
   "metadata": {},
   "outputs": [
    {
     "name": "stdout",
     "output_type": "stream",
     "text": [
      "1 2 3 4 5 6 -1\n",
      "1->2->3->4->5->6->None\n"
     ]
    },
    {
     "data": {
      "text/plain": [
       "6"
      ]
     },
     "execution_count": 4,
     "metadata": {},
     "output_type": "execute_result"
    }
   ],
   "source": [
    "class Node:\n",
    "    def __init__(self,data):\n",
    "        self.data=data\n",
    "        self.next=None\n",
    "    \n",
    "    #Printing Linked List\n",
    "    def printLL(head):\n",
    "        while head is not None:\n",
    "            print(str(head.data)+\"->\",end='')\n",
    "            head=head.next\n",
    "        print(\"None\")\n",
    "        return\n",
    "    \n",
    "    #Printing Length  of the Linked List\n",
    "    def LengthOfLinkedList(head):\n",
    "        ll=0\n",
    "        while head is not None:\n",
    "            head=head.next\n",
    "            ll+=1\n",
    "        return ll\n",
    "    \n",
    "    #Taking Input of the linked list\n",
    "    def takeInput():\n",
    "        inputList=[int (ele) for ele in input().split()]\n",
    "        head=None\n",
    "        for currData in inputList:\n",
    "            if currData==-1:\n",
    "                break\n",
    "            newNode=Node(currData)\n",
    "            if head is None:\n",
    "                head=newNode\n",
    "            else:\n",
    "                curr=head\n",
    "                while curr.next is not None:\n",
    "                    curr=curr.next\n",
    "                curr.next=newNode\n",
    "        return head\n",
    "    \n",
    "    #printing ith position of the linked list\n",
    "    def PrintithPosition(head,i):\n",
    "        curr=head\n",
    "        count=0\n",
    "        while count<=i and curr.next is not None:\n",
    "            curr=curr.next\n",
    "            count+=1\n",
    "            if count==i:\n",
    "                print(curr.data)\n",
    "    \n",
    "    #Insert at ith position    \n",
    "    def insertAtI(head,i,data):\n",
    "        if i<0 or i>Node.LengthOfLinkedList(head):\n",
    "            return head\n",
    "        count=0\n",
    "        prev=None\n",
    "        curr=head\n",
    "        while count<i:\n",
    "            prev=curr\n",
    "            curr=curr.next\n",
    "            count=count+1     \n",
    "        newNode=Node(data)\n",
    "        if prev is not None:\n",
    "            prev.next=newNode\n",
    "        else:\n",
    "            head=newNode\n",
    "    \n",
    "        newNode.next=curr\n",
    "        return head\n",
    "    #delete a node in a linked list\n",
    "    def deleteNode(head, position):\n",
    "        if head is None:\n",
    "            return head\n",
    "        index = 0\n",
    "        current = head\n",
    "        while current.next and index < position:\n",
    "            previous = current\n",
    "            current = current.next\n",
    "            index += 1\n",
    "        if index < position:\n",
    "            return head\n",
    "        elif index == 0:\n",
    "            head = head.next\n",
    "        else:\n",
    "            previous.next = current.next\n",
    "            current = None #Optional statement\n",
    "        return head\n",
    "    \n",
    "\n",
    "head=Node.takeInput()\n",
    "Node.printLL(head)\n",
    "Node.LengthOfLinkedList(head)\n"
   ]
  },
  {
   "cell_type": "code",
   "execution_count": 5,
   "id": "5fd250e2",
   "metadata": {},
   "outputs": [
    {
     "name": "stdout",
     "output_type": "stream",
     "text": [
      "3\n"
     ]
    }
   ],
   "source": [
    "Node.PrintithPosition(head,2)"
   ]
  },
  {
   "cell_type": "code",
   "execution_count": 6,
   "id": "1816a1d8",
   "metadata": {},
   "outputs": [
    {
     "name": "stdout",
     "output_type": "stream",
     "text": [
      "1->2->3->4->5->6->None\n",
      "1->2->7->3->4->5->6->None\n"
     ]
    }
   ],
   "source": [
    "Node.printLL(head)\n",
    "Node.insertAtI(head,2,7)\n",
    "Node.printLL(head)"
   ]
  },
  {
   "cell_type": "code",
   "execution_count": 7,
   "id": "0d43d6de",
   "metadata": {},
   "outputs": [
    {
     "name": "stdout",
     "output_type": "stream",
     "text": [
      "1->2->3->4->5->6->None\n"
     ]
    }
   ],
   "source": [
    "Node.deleteNode(head,2)\n",
    "Node.printLL(head)"
   ]
  },
  {
   "cell_type": "code",
   "execution_count": null,
   "id": "87ef3c94",
   "metadata": {},
   "outputs": [],
   "source": []
  },
  {
   "cell_type": "code",
   "execution_count": null,
   "id": "8b70d1bf",
   "metadata": {},
   "outputs": [],
   "source": []
  }
 ],
 "metadata": {
  "kernelspec": {
   "display_name": "Python 3 (ipykernel)",
   "language": "python",
   "name": "python3"
  },
  "language_info": {
   "codemirror_mode": {
    "name": "ipython",
    "version": 3
   },
   "file_extension": ".py",
   "mimetype": "text/x-python",
   "name": "python",
   "nbconvert_exporter": "python",
   "pygments_lexer": "ipython3",
   "version": "3.9.13"
  }
 },
 "nbformat": 4,
 "nbformat_minor": 5
}
