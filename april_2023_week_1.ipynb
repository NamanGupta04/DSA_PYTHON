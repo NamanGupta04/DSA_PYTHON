{
 "cells": [
  {
   "cell_type": "markdown",
   "id": "aac94f28",
   "metadata": {},
   "source": [
    "## Week-1 "
   ]
  },
  {
   "cell_type": "markdown",
   "id": "1f1af32c",
   "metadata": {},
   "source": [
    "#### Q1. Check whether a string is Palindrome or not ?"
   ]
  },
  {
   "cell_type": "code",
   "execution_count": 2,
   "id": "03af9ceb",
   "metadata": {},
   "outputs": [
    {
     "name": "stdout",
     "output_type": "stream",
     "text": [
      "String is not Palindrome\n",
      "String is Palindrome\n"
     ]
    },
    {
     "data": {
      "text/plain": [
       "True"
      ]
     },
     "execution_count": 2,
     "metadata": {},
     "output_type": "execute_result"
    }
   ],
   "source": [
    "def isPalindrome(s):\n",
    "    if s[::]==s[::-1]:\n",
    "        print(\"String is Palindrome\")\n",
    "    else:\n",
    "        print(\"String is not Palindrome\")\n",
    "isPalindrome(\"Naman\")\n",
    "isPalindrome(\"naman\")\n",
    "\n",
    "def isPalindromeLoop(str):\n",
    "    n=len(str)\n",
    "    count=0\n",
    "    for i in range(n//2):\n",
    "        if str[i] == str[n-1-i]:\n",
    "            count+=1\n",
    "            \n",
    "    if count== n//2:\n",
    "        return True\n",
    "    \n",
    "    return False\n",
    "\n",
    "isPalindromeLoop(\"racecar\")\n",
    "\n",
    "## Time Complexity -->  O(n)\n",
    "## Space Complexity --> O(n)"
   ]
  },
  {
   "cell_type": "markdown",
   "id": "3ff6a256",
   "metadata": {},
   "source": [
    "#### Q2 Pattern Problem 1"
   ]
  },
  {
   "cell_type": "code",
   "execution_count": 5,
   "id": "aa187216",
   "metadata": {},
   "outputs": [
    {
     "name": "stdout",
     "output_type": "stream",
     "text": [
      "***************"
     ]
    }
   ],
   "source": [
    "def Pattern(n):\n",
    "    i=0\n",
    "    while i<=n:\n",
    "        j=0\n",
    "        while j<=i:\n",
    "            print(\"*\",end=\"\")\n",
    "            j=j+1\n",
    "        i+=1\n",
    "Pattern(4)"
   ]
  },
  {
   "cell_type": "code",
   "execution_count": null,
   "id": "e5b2e449",
   "metadata": {},
   "outputs": [],
   "source": []
  }
 ],
 "metadata": {
  "kernelspec": {
   "display_name": "Python 3 (ipykernel)",
   "language": "python",
   "name": "python3"
  },
  "language_info": {
   "codemirror_mode": {
    "name": "ipython",
    "version": 3
   },
   "file_extension": ".py",
   "mimetype": "text/x-python",
   "name": "python",
   "nbconvert_exporter": "python",
   "pygments_lexer": "ipython3",
   "version": "3.9.13"
  }
 },
 "nbformat": 4,
 "nbformat_minor": 5
}
