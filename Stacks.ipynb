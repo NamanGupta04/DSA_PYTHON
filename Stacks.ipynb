{
 "cells": [
  {
   "cell_type": "markdown",
   "id": "d5c3de77",
   "metadata": {},
   "source": [
    "# Stacks"
   ]
  },
  {
   "cell_type": "markdown",
   "id": "db4da263",
   "metadata": {},
   "source": [
    "1. Push - Insert\n",
    "2. Pop - Delete\n",
    "3. Top - Access top of the element\n",
    "4. Size\n",
    "5. IsEmpty"
   ]
  },
  {
   "cell_type": "code",
   "execution_count": 1,
   "id": "a1806d11",
   "metadata": {},
   "outputs": [
    {
     "name": "stdout",
     "output_type": "stream",
     "text": [
      "15\n",
      "13\n",
      "12\n",
      "Hey!Stack is Empty!!\n"
     ]
    }
   ],
   "source": [
    "class Stack:\n",
    "    def __init__(self):\n",
    "        self.__data=[]\n",
    "        \n",
    "    def push(self,item):\n",
    "        self.__data.append(item)\n",
    "        \n",
    "    def pop(self):\n",
    "        if self.isEmpty():\n",
    "            print(\"Hey!Stack is Empty!!\")\n",
    "            return\n",
    "        return self.__data.pop()\n",
    "    \n",
    "    def top(self):\n",
    "        if self.isEmpty():\n",
    "            print(\"Hey!Stack is Empty!!\")\n",
    "            return\n",
    "        return self.__data[len(self.__data)-1]\n",
    "        \n",
    "    def size(self):\n",
    "        return len(self.__data)\n",
    "        \n",
    "    def isEmpty(self):\n",
    "        return self.size()==0\n",
    "    \n",
    "    #STACK using LINKED LIST\n",
    "    \n",
    "\n",
    "s=Stack()\n",
    "s.push(12)\n",
    "s.push(13)\n",
    "s.push(15)\n",
    "while s.isEmpty() is False:\n",
    "    print(s.pop())\n",
    "s.top()"
   ]
  },
  {
   "cell_type": "code",
   "execution_count": null,
   "id": "f596106d",
   "metadata": {},
   "outputs": [],
   "source": []
  }
 ],
 "metadata": {
  "kernelspec": {
   "display_name": "Python 3 (ipykernel)",
   "language": "python",
   "name": "python3"
  },
  "language_info": {
   "codemirror_mode": {
    "name": "ipython",
    "version": 3
   },
   "file_extension": ".py",
   "mimetype": "text/x-python",
   "name": "python",
   "nbconvert_exporter": "python",
   "pygments_lexer": "ipython3",
   "version": "3.9.13"
  }
 },
 "nbformat": 4,
 "nbformat_minor": 5
}
