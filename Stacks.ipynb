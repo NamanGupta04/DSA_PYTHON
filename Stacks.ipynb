{
 "cells": [
  {
   "cell_type": "markdown",
   "id": "d5c3de77",
   "metadata": {},
   "source": [
    "## Stacks Date- 5/5/23"
   ]
  },
  {
   "cell_type": "markdown",
   "id": "db4da263",
   "metadata": {},
   "source": [
    "1. Push - Insert\n",
    "2. Pop - Delete\n",
    "3. Top - Access top of the element\n",
    "4. Size\n",
    "5. IsEmpty"
   ]
  },
  {
   "cell_type": "code",
   "execution_count": 1,
   "id": "a1806d11",
   "metadata": {},
   "outputs": [
    {
     "name": "stdout",
     "output_type": "stream",
     "text": [
      "15\n",
      "13\n",
      "12\n",
      "Hey!Stack is Empty!!\n"
     ]
    }
   ],
   "source": [
    "class Stack:\n",
    "    def __init__(self):\n",
    "        self.__data=[]\n",
    "        \n",
    "    def push(self,item):\n",
    "        self.__data.append(item)\n",
    "        \n",
    "    def pop(self):\n",
    "        if self.isEmpty():\n",
    "            print(\"Hey!Stack is Empty!!\")\n",
    "            return\n",
    "        return self.__data.pop()\n",
    "    \n",
    "    def top(self):\n",
    "        if self.isEmpty():\n",
    "            print(\"Hey!Stack is Empty!!\")\n",
    "            return\n",
    "        return self.__data[len(self.__data)-1]\n",
    "        \n",
    "    def size(self):\n",
    "        return len(self.__data)\n",
    "        \n",
    "    def isEmpty(self):\n",
    "        return self.size()==0\n",
    "    \n",
    "\n",
    "s=Stack()\n",
    "s.push(12)\n",
    "s.push(13)\n",
    "s.push(15)\n",
    "while s.isEmpty() is False:\n",
    "    print(s.pop())\n",
    "s.top()"
   ]
  },
  {
   "cell_type": "markdown",
   "id": "29bcf57e",
   "metadata": {},
   "source": [
    "### STACK using LINKED LIST (Date-6/5/23)\n",
    "    \n",
    "    \n"
   ]
  },
  {
   "cell_type": "code",
   "execution_count": 2,
   "id": "2740c7cf",
   "metadata": {},
   "outputs": [
    {
     "name": "stdout",
     "output_type": "stream",
     "text": [
      "15\n",
      "13\n",
      "12\n",
      "Hey! Stack is Empty!\n"
     ]
    }
   ],
   "source": [
    "class Node:\n",
    "    def __init__(self,initData):\n",
    "        self.data=initData\n",
    "        self.next=None\n",
    "\n",
    "class Stack:\n",
    "    def __init__(self):\n",
    "        self.__head=None\n",
    "        self.__count=0\n",
    "    def push(self,element):\n",
    "        newNode=Node(element)\n",
    "        newNode.next=self.__head\n",
    "        self.__head=newNode \n",
    "        self.__count=self.__count+1\n",
    "    \n",
    "    def pop(self):\n",
    "        if self.isEmpty() is True:\n",
    "            print(\"Hey!Stack is Empty!\")\n",
    "            return\n",
    "        data=self.__head.data\n",
    "        self.__head=self.__head.next\n",
    "        self.__count=self.__count-1\n",
    "        return data\n",
    "        \n",
    "    def top(self):\n",
    "        if self.isEmpty() is True:\n",
    "            print(\"Hey! Stack is Empty!\")\n",
    "            return\n",
    "        data=self.__head.data\n",
    "        return data\n",
    "    \n",
    "    def size(self):\n",
    "        return self.__count\n",
    "    \n",
    "    def isEmpty(self):\n",
    "        return self.size()==0\n",
    "\n",
    "s=Stack()\n",
    "s.push(12)\n",
    "s.push(13)\n",
    "s.push(15)\n",
    "while s.isEmpty() is False:\n",
    "    print(s.pop())\n",
    "s.top()"
   ]
  },
  {
   "cell_type": "markdown",
   "id": "3b3f285b",
   "metadata": {},
   "source": [
    "#### Balanced Paranthesis"
   ]
  },
  {
   "cell_type": "code",
   "execution_count": 3,
   "id": "c6b07c84",
   "metadata": {},
   "outputs": [
    {
     "name": "stderr",
     "output_type": "stream",
     "text": [
      "<>:6: SyntaxWarning: \"is\" with a literal. Did you mean \"==\"?\n",
      "<>:11: SyntaxWarning: \"is\" with a literal. Did you mean \"==\"?\n",
      "<>:15: SyntaxWarning: \"is\" with a literal. Did you mean \"==\"?\n",
      "<>:6: SyntaxWarning: \"is\" with a literal. Did you mean \"==\"?\n",
      "<>:11: SyntaxWarning: \"is\" with a literal. Did you mean \"==\"?\n",
      "<>:15: SyntaxWarning: \"is\" with a literal. Did you mean \"==\"?\n",
      "C:\\Users\\Naman Gupta\\AppData\\Local\\Temp\\ipykernel_5112\\975090170.py:6: SyntaxWarning: \"is\" with a literal. Did you mean \"==\"?\n",
      "  elif char is ')':\n",
      "C:\\Users\\Naman Gupta\\AppData\\Local\\Temp\\ipykernel_5112\\975090170.py:11: SyntaxWarning: \"is\" with a literal. Did you mean \"==\"?\n",
      "  elif char is '}':\n",
      "C:\\Users\\Naman Gupta\\AppData\\Local\\Temp\\ipykernel_5112\\975090170.py:15: SyntaxWarning: \"is\" with a literal. Did you mean \"==\"?\n",
      "  elif char is ']':\n"
     ]
    },
    {
     "name": "stdout",
     "output_type": "stream",
     "text": [
      "{a+b\n",
      "False\n"
     ]
    }
   ],
   "source": [
    "def isBalanced(string):\n",
    "    s=[]\n",
    "    for char in string:\n",
    "        if char in '({[':\n",
    "            s.append(char)\n",
    "        elif char is ')':\n",
    "            if(not s or s[-1]!='('):\n",
    "                return False\n",
    "            s.pop()\n",
    "            \n",
    "        elif char is '}':\n",
    "            if(not s or s[-1]!='{'):\n",
    "                return False\n",
    "            s.pop()\n",
    "        elif char is ']':\n",
    "            if(not s or s[-1]!='['):\n",
    "                return False\n",
    "            s.pop()\n",
    "    if(not s):\n",
    "        return True\n",
    "    return False\n",
    "            \n",
    "string=input()\n",
    "ans=isBalanced(string)\n",
    "print(ans)"
   ]
  },
  {
   "cell_type": "markdown",
   "id": "200feb57",
   "metadata": {},
   "source": [
    "### reverseStack Date-7-6-23"
   ]
  },
  {
   "cell_type": "code",
   "execution_count": 5,
   "id": "e882a119",
   "metadata": {},
   "outputs": [
    {
     "name": "stdout",
     "output_type": "stream",
     "text": [
      "4\n",
      "1 2 3 4\n",
      "1234"
     ]
    }
   ],
   "source": [
    "def reverseStack(s1,s2):\n",
    "    if(len(s1)<=1):\n",
    "        return\n",
    "    while(len(s1)!=1):\n",
    "        ele=s1.pop()\n",
    "        s2.append(ele)\n",
    "    lastElement=s1.pop()\n",
    "    while(len(s2)!=0):\n",
    "        ele=s2.pop()\n",
    "        s1.append(ele)\n",
    "    reverseStack(s1,s2)\n",
    "    s1.append(lastElement)\n",
    "from sys import setrecursionlimit\n",
    "setrecursionlimit(11000)\n",
    "n=int(input())\n",
    "s1=[int(ele) for ele in input().split()]\n",
    "s2=[]\n",
    "reverseStack(s1,s2)\n",
    "while(len(s1)!=0):\n",
    "    print(s1.pop(),end='')"
   ]
  },
  {
   "cell_type": "code",
   "execution_count": null,
   "id": "d6b6cf65",
   "metadata": {},
   "outputs": [],
   "source": []
  }
 ],
 "metadata": {
  "kernelspec": {
   "display_name": "Python 3 (ipykernel)",
   "language": "python",
   "name": "python3"
  },
  "language_info": {
   "codemirror_mode": {
    "name": "ipython",
    "version": 3
   },
   "file_extension": ".py",
   "mimetype": "text/x-python",
   "name": "python",
   "nbconvert_exporter": "python",
   "pygments_lexer": "ipython3",
   "version": "3.9.13"
  }
 },
 "nbformat": 4,
 "nbformat_minor": 5
}
