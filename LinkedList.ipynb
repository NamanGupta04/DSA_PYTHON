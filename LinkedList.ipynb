{
 "cells": [
  {
   "cell_type": "code",
   "execution_count": 15,
   "id": "bbc44170-299c-4fe0-8ad9-c62f68837e7b",
   "metadata": {},
   "outputs": [
    {
     "name": "stdout",
     "output_type": "stream",
     "text": [
      "7-->5-->3-->\n",
      "3\n",
      "naman-->vaibhav-->tammana-->gautam-->shobhit-->\n",
      "5\n"
     ]
    }
   ],
   "source": [
    "class Node:\n",
    "    def __init__(self , data = None , next = None):\n",
    "        self.data = data\n",
    "        self.next = next\n",
    "        \n",
    "class LinkedList:\n",
    "    def __init__(self):\n",
    "        self.head = None\n",
    "    \n",
    "    def insert_at_beginning(self,data):\n",
    "        node = Node(data , self.head)\n",
    "        self.head = node\n",
    "    \n",
    "    def printLL(self):\n",
    "        if self.head is None:\n",
    "            print(\"Linked List is Empty\")\n",
    "        current = self.head\n",
    "        llstr = \"\"\n",
    "        while current:\n",
    "            llstr += str(current.data) + \"-->\"\n",
    "            current = current.next\n",
    "        print(llstr)\n",
    "    \n",
    "    def insert_at_end(self , data):\n",
    "        if self.head == None:\n",
    "            self.head = Node(data,None)\n",
    "            return\n",
    "        current = self.head\n",
    "        while current.next:\n",
    "            current = current.next\n",
    "        current.next = Node(data,None)\n",
    "\n",
    "    def insert_values(self , data_list):\n",
    "        self.head = None\n",
    "        for data in data_list:\n",
    "            self.insert_at_end(data)\n",
    "\n",
    "    def get_length(self):\n",
    "        count = 0\n",
    "        current = self.head\n",
    "        while current:\n",
    "            count+=1\n",
    "            current = current.next\n",
    "        return count\n",
    "\n",
    "if __name__ == \"__main__\":\n",
    "    ll = LinkedList()\n",
    "    ll.insert_at_beginning(5)\n",
    "    ll.insert_at_beginning(7)\n",
    "    ll.insert_at_end(3)\n",
    "    ll.printLL()\n",
    "    print(ll.get_length())\n",
    "    \n",
    "    ll2 = LinkedList()\n",
    "    ll2.insert_values([\"naman\",\"vaibhav\",\"tammana\",\"gautam\",\"shobhit\"])\n",
    "    ll2.printLL()\n",
    "    print(ll2.get_length())\n",
    "    "
   ]
  },
  {
   "cell_type": "code",
   "execution_count": null,
   "id": "c4f56561-a8c2-4b29-8b97-370a38d53d37",
   "metadata": {},
   "outputs": [],
   "source": []
  }
 ],
 "metadata": {
  "kernelspec": {
   "display_name": "Python 3 (ipykernel)",
   "language": "python",
   "name": "python3"
  },
  "language_info": {
   "codemirror_mode": {
    "name": "ipython",
    "version": 3
   },
   "file_extension": ".py",
   "mimetype": "text/x-python",
   "name": "python",
   "nbconvert_exporter": "python",
   "pygments_lexer": "ipython3",
   "version": "3.11.7"
  }
 },
 "nbformat": 4,
 "nbformat_minor": 5
}
