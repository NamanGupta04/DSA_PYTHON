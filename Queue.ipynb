{
 "cells": [
  {
   "cell_type": "markdown",
   "id": "ed877b42",
   "metadata": {},
   "source": [
    "# Queue"
   ]
  },
  {
   "cell_type": "code",
   "execution_count": 1,
   "id": "78ad4266",
   "metadata": {},
   "outputs": [
    {
     "name": "stdout",
     "output_type": "stream",
     "text": [
      "1\n",
      "2\n",
      "3\n",
      "4\n",
      "-1\n"
     ]
    }
   ],
   "source": [
    "class QueueUsingArray:\n",
    "    def __init__(self):\n",
    "        self.__arr=[]\n",
    "        self.__count=0\n",
    "        self.__front=0\n",
    "    def enqueue(self,data):\n",
    "        self.__arr.append(data)\n",
    "        self.__count+=1\n",
    "    def dequeue(self):\n",
    "        if self.__count==0:\n",
    "            return -1\n",
    "        element=self.__arr[self.__front]\n",
    "        self.__count-=1\n",
    "        self.__front+=1\n",
    "        return element\n",
    "    def front(self):\n",
    "        if self.__count==0:\n",
    "            return -1\n",
    "        return self.__arr[self.__front]\n",
    "    def size(self):\n",
    "        return self.__count\n",
    "        \n",
    "    def isEmpty(self):\n",
    "        return self.size()==0\n",
    "q=QueueUsingArray()\n",
    "q.enqueue(1)\n",
    "q.enqueue(2)\n",
    "q.enqueue(3)\n",
    "q.enqueue(4)\n",
    "while(q.isEmpty()is False):\n",
    "    print(q.front())\n",
    "    q.dequeue()\n",
    "print(q.dequeue())"
   ]
  },
  {
   "cell_type": "markdown",
   "id": "260e1873",
   "metadata": {},
   "source": [
    "## Queue using Linked List"
   ]
  },
  {
   "cell_type": "code",
   "execution_count": 2,
   "id": "b294222a",
   "metadata": {},
   "outputs": [
    {
     "name": "stdout",
     "output_type": "stream",
     "text": [
      "1\n",
      "5\n",
      "3\n",
      "4\n",
      "Hey! Queue is Empty\n"
     ]
    }
   ],
   "source": [
    "class Node:\n",
    "    def __init__(self,data):\n",
    "        self.data=data\n",
    "        self.next=None\n",
    "\n",
    "class Queue:\n",
    "    def __init__(self):\n",
    "        self.__head=None\n",
    "        self.__tail=None\n",
    "        self.__count=0\n",
    "        \n",
    "    def enqueue(self,element):\n",
    "        newNode=Node(element)\n",
    "        if self.__head is None:\n",
    "            self.__head=newNode\n",
    "            \n",
    "        else:\n",
    "            self.__tail.next=newNode\n",
    "            \n",
    "        self.__tail=newNode\n",
    "        self.__count=self.__count+1\n",
    "    def dequeue(self):\n",
    "        if self.__head is None:\n",
    "            print(\"Hey!Queue is Empty\")\n",
    "            return\n",
    "        data=self.__head.data\n",
    "        self.__head=self.__head.next\n",
    "        self.__count=self.__count-1\n",
    "        return data\n",
    "        \n",
    "            \n",
    "        \n",
    "    def isEmpty(self):\n",
    "        return self.size()==0\n",
    "        \n",
    "    def size(self):\n",
    "        return self.__count\n",
    "        \n",
    "    def front(self):\n",
    "        if self.__head is None:\n",
    "            print(\"Hey! Queue is Empty\")\n",
    "            return\n",
    "        data=self.__head.data\n",
    "        return data\n",
    "\n",
    "q=Queue()\n",
    "q.enqueue(1)\n",
    "q.enqueue(5)\n",
    "q.enqueue(3)\n",
    "q.enqueue(4)\n",
    "while q.isEmpty() is False:\n",
    "    print(q.dequeue())\n",
    "q.front()"
   ]
  },
  {
   "cell_type": "code",
   "execution_count": null,
   "id": "7572e8aa",
   "metadata": {},
   "outputs": [],
   "source": []
  }
 ],
 "metadata": {
  "kernelspec": {
   "display_name": "Python 3 (ipykernel)",
   "language": "python",
   "name": "python3"
  },
  "language_info": {
   "codemirror_mode": {
    "name": "ipython",
    "version": 3
   },
   "file_extension": ".py",
   "mimetype": "text/x-python",
   "name": "python",
   "nbconvert_exporter": "python",
   "pygments_lexer": "ipython3",
   "version": "3.9.13"
  }
 },
 "nbformat": 4,
 "nbformat_minor": 5
}
